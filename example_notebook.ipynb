{
 "cells": [
  {
   "cell_type": "code",
   "execution_count": 1,
   "id": "a6857c60",
   "metadata": {},
   "outputs": [],
   "source": [
    "%load_ext autoreload\n",
    "%autoreload 2\n",
    "\n",
    "import pandas as pd\n",
    "pd.set_option(\"display.max_rows\", 101)\n",
    "pd.set_option(\"display.max_columns\", 101)\n",
    "\n",
    "import matplotlib.pyplot as plt"
   ]
  },
  {
   "cell_type": "code",
   "execution_count": 2,
   "id": "d2b01551",
   "metadata": {},
   "outputs": [],
   "source": [
    "import example_module as em"
   ]
  },
  {
   "cell_type": "code",
   "execution_count": 3,
   "id": "27793560",
   "metadata": {},
   "outputs": [],
   "source": [
    "text = em.hello_world()"
   ]
  },
  {
   "cell_type": "code",
   "execution_count": 4,
   "id": "dbcb5835",
   "metadata": {},
   "outputs": [
    {
     "data": {
      "text/plain": [
       "'Hello world from a module'"
      ]
     },
     "execution_count": 4,
     "metadata": {},
     "output_type": "execute_result"
    }
   ],
   "source": [
    "text"
   ]
  },
  {
   "cell_type": "code",
   "execution_count": 5,
   "id": "8ac53833",
   "metadata": {},
   "outputs": [],
   "source": [
    "y = em.some_other_function(10)"
   ]
  },
  {
   "cell_type": "code",
   "execution_count": 6,
   "id": "fc38b01e",
   "metadata": {},
   "outputs": [
    {
     "data": {
      "text/plain": [
       "10"
      ]
     },
     "execution_count": 6,
     "metadata": {},
     "output_type": "execute_result"
    }
   ],
   "source": [
    "y"
   ]
  },
  {
   "cell_type": "code",
   "execution_count": 7,
   "id": "9d0151b7",
   "metadata": {},
   "outputs": [],
   "source": [
    "y = em.some_other_function(\"Hmmmmmm?\")"
   ]
  },
  {
   "cell_type": "code",
   "execution_count": 8,
   "id": "ca6f401d",
   "metadata": {},
   "outputs": [
    {
     "data": {
      "text/plain": [
       "'Hmmmmmm?'"
      ]
     },
     "execution_count": 8,
     "metadata": {},
     "output_type": "execute_result"
    }
   ],
   "source": [
    "y"
   ]
  },
  {
   "cell_type": "code",
   "execution_count": 9,
   "id": "c309dbe9",
   "metadata": {},
   "outputs": [],
   "source": [
    "z = em.some_other_function(\"ahhhhhh!\")"
   ]
  },
  {
   "cell_type": "code",
   "execution_count": 10,
   "id": "7e08d7bc",
   "metadata": {},
   "outputs": [
    {
     "data": {
      "text/plain": [
       "'ahhhhhh!'"
      ]
     },
     "execution_count": 10,
     "metadata": {},
     "output_type": "execute_result"
    }
   ],
   "source": [
    "z"
   ]
  },
  {
   "cell_type": "code",
   "execution_count": 11,
   "id": "24c81592",
   "metadata": {},
   "outputs": [],
   "source": [
    "zz = em.some_other_function(\"ahhhhhh again!\")\n",
    "\n"
   ]
  },
  {
   "cell_type": "code",
   "execution_count": 12,
   "id": "b6eddc39",
   "metadata": {},
   "outputs": [
    {
     "data": {
      "text/plain": [
       "'ahhhhhh again!'"
      ]
     },
     "execution_count": 12,
     "metadata": {},
     "output_type": "execute_result"
    }
   ],
   "source": [
    "zz"
   ]
  },
  {
   "cell_type": "code",
   "execution_count": 73,
   "id": "8c68e131",
   "metadata": {},
   "outputs": [
    {
     "data": {
      "text/plain": [
       "[<matplotlib.lines.Line2D at 0x239eebc4d10>]"
      ]
     },
     "execution_count": 73,
     "metadata": {},
     "output_type": "execute_result"
    },
    {
     "data": {
      "image/png": "[encoded data removed]",
      "text/plain": [
       "<Figure size 640x480 with 1 Axes>"
      ]
     },
     "metadata": {},
     "output_type": "display_data"
    }
   ],
   "source": [
    "# settiing up the assignement 1\n",
    "### volleyball feild  outer dimension \n",
    "fig=plt.figure()\n",
    "ax=fig.add_subplot(1,1,1)\n",
    "\n",
    "# center line \n",
    "plt.plot([120,120],[26,124], color=\"pink\", linewidth=4)\n",
    "#outer blue line \n",
    "plt.plot([0,0],[0,150], color=\"blue\")\n",
    "#inner blue line\n",
    "plt.plot([30,30],[120,30], color=\"blue\",linewidth=2)\n",
    "#outer orange line\n",
    "plt.plot([0,240],[150,150], color=\"orange\")\n",
    "#inner orange line\n",
    "plt.plot([210,30],[120,120], color=\"orange\",linewidth=2)\n",
    "#outer red line\n",
    "plt.plot([240,0],[0,0], color=\"red\")\n",
    "#inner red line\n",
    "plt.plot([210,30],[30,30], color=\"red\",linewidth=2)\n",
    "#outer gereen line\n",
    "plt.plot([240,240],[150,0], color=\"green\")\n",
    "#inner green line\n",
    "plt.plot([210,210],[120,30], color=\"green\",linewidth=2)\n",
    "#attack line\n",
    "plt.plot([90,90],[120,30], color=\"black\", linewidth=2)\n",
    "plt.plot([150,150],[120,30], color=\"black\", linewidth=2)"
   ]
  }
 ],
 "metadata": {
  "kernelspec": {
   "display_name": "Python 3 (ipykernel)",
   "language": "python",
   "name": "python3"
  },
  "language_info": {
   "codemirror_mode": {
    "name": "ipython",
    "version": 3
   },
   "file_extension": ".py",
   "mimetype": "text/x-python",
   "name": "python",
   "nbconvert_exporter": "python",
   "pygments_lexer": "ipython3",
   "version": "3.11.13"
  }
 },
 "nbformat": 4,
 "nbformat_minor": 5
}
